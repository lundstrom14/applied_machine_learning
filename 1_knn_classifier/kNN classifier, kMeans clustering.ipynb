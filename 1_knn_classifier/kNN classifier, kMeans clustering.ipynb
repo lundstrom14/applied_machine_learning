{
 "cells": [
  {
   "cell_type": "markdown",
   "metadata": {},
   "source": [
    "## Imports"
   ]
  },
  {
   "cell_type": "code",
   "execution_count": 6,
   "metadata": {},
   "outputs": [],
   "source": [
    "from sklearn import datasets, svm, metrics, neighbors, cluster\n",
    "import matplotlib.pyplot as plt\n",
    "import numpy as np"
   ]
  },
  {
   "cell_type": "markdown",
   "metadata": {},
   "source": [
    "## Load digits"
   ]
  },
  {
   "cell_type": "code",
   "execution_count": 8,
   "metadata": {},
   "outputs": [
    {
     "data": {
      "text/plain": [
       "array([[ 0.,  0.,  5., ...,  0.,  0.,  0.],\n",
       "       [ 0.,  0.,  0., ..., 10.,  0.,  0.],\n",
       "       [ 0.,  0.,  0., ..., 16.,  9.,  0.],\n",
       "       ...,\n",
       "       [ 0.,  0.,  1., ...,  6.,  0.,  0.],\n",
       "       [ 0.,  0.,  2., ..., 12.,  0.,  0.],\n",
       "       [ 0.,  0., 10., ..., 12.,  1.,  0.]])"
      ]
     },
     "execution_count": 8,
     "metadata": {},
     "output_type": "execute_result"
    }
   ],
   "source": [
    "digits = datasets.load_digits()\n",
    "\n",
    "digits.data\n"
   ]
  },
  {
   "cell_type": "code",
   "execution_count": 9,
   "metadata": {},
   "outputs": [
    {
     "data": {
      "text/plain": [
       "(1797, 64)"
      ]
     },
     "execution_count": 9,
     "metadata": {},
     "output_type": "execute_result"
    }
   ],
   "source": [
    "digits.data.shape"
   ]
  },
  {
   "cell_type": "markdown",
   "metadata": {},
   "source": [
    "## Plot digits"
   ]
  },
  {
   "cell_type": "code",
   "execution_count": 10,
   "metadata": {},
   "outputs": [
    {
     "data": {
      "text/plain": [
       "array([[ 0.,  0.,  5., ...,  0.,  0.,  0.],\n",
       "       [ 0.,  0.,  0., ..., 10.,  0.,  0.],\n",
       "       [ 0.,  0.,  0., ..., 16.,  9.,  0.],\n",
       "       ...,\n",
       "       [ 0.,  0.,  1., ...,  6.,  0.,  0.],\n",
       "       [ 0.,  0.,  2., ..., 12.,  0.,  0.],\n",
       "       [ 0.,  0., 10., ..., 12.,  1.,  0.]])"
      ]
     },
     "execution_count": 10,
     "metadata": {},
     "output_type": "execute_result"
    }
   ],
   "source": [
    "digits.data"
   ]
  },
  {
   "cell_type": "code",
   "execution_count": 4,
   "metadata": {},
   "outputs": [],
   "source": [
    "zipped = zip(digits.images, digits.target) # returns iteratable items as tuples\n",
    "images_and_labels = list(zipped) # create a list from our touples to iterate over"
   ]
  },
  {
   "cell_type": "code",
   "execution_count": 5,
   "metadata": {},
   "outputs": [
    {
     "data": {
      "image/png": "[encoded data removed]",
      "text/plain": [
       "<Figure size 432x288 with 10 Axes>"
      ]
     },
     "metadata": {
      "needs_background": "light"
     },
     "output_type": "display_data"
    }
   ],
   "source": [
    "for index, (image, label) in enumerate(images_and_labels[:10]):\n",
    "    plt.subplot(2, 5, index + 1)\n",
    "    plt.axis('off')\n",
    "    plt.imshow(image, cmap=plt.cm.gray_r, interpolation='nearest')\n",
    "    plt.title('Training: %i' % label)"
   ]
  },
  {
   "cell_type": "markdown",
   "metadata": {},
   "source": [
    "## Split sets into 70% training and 30% test"
   ]
  },
  {
   "cell_type": "code",
   "execution_count": 8,
   "metadata": {},
   "outputs": [
    {
     "name": "stdout",
     "output_type": "stream",
     "text": [
      "Number of training examples:  1257\n",
      "Number of test examples:  540\n",
      "Number of total examples: 1797\n"
     ]
    }
   ],
   "source": [
    "num_split = int(0.7*len(digits.data))\n",
    "train_features = digits.data[:num_split]\n",
    "train_labels =  digits.target[:num_split]\n",
    "test_features = digits.data[num_split:]\n",
    "test_labels = digits.target[num_split:]\n",
    "\n",
    "print(\"Number of training examples: \",len(train_features))\n",
    "print(\"Number of test examples: \",len(test_features))\n",
    "print(\"Number of total examples:\", len(train_features)+len(test_features))"
   ]
  },
  {
   "cell_type": "markdown",
   "metadata": {},
   "source": [
    "# Set up classifier"
   ]
  },
  {
   "cell_type": "code",
   "execution_count": 9,
   "metadata": {},
   "outputs": [],
   "source": [
    "classifier = neighbors.KNeighborsClassifier(n_neighbors=5, algorithm = 'brute') # Set up classifer"
   ]
  },
  {
   "cell_type": "code",
   "execution_count": 10,
   "metadata": {},
   "outputs": [
    {
     "data": {
      "text/plain": [
       "KNeighborsClassifier(algorithm='brute', leaf_size=30, metric='minkowski',\n",
       "                     metric_params=None, n_jobs=None, n_neighbors=5, p=2,\n",
       "                     weights='uniform')"
      ]
     },
     "execution_count": 10,
     "metadata": {},
     "output_type": "execute_result"
    }
   ],
   "source": [
    "classifier.fit(train_features,train_labels)   # Fit to training data"
   ]
  },
  {
   "cell_type": "markdown",
   "metadata": {},
   "source": [
    "# Predict test features"
   ]
  },
  {
   "cell_type": "code",
   "execution_count": 11,
   "metadata": {},
   "outputs": [],
   "source": [
    "predicted_labels = classifier.predict(test_features)"
   ]
  },
  {
   "cell_type": "markdown",
   "metadata": {},
   "source": [
    "# Visaulize 5-nearest neighbors"
   ]
  },
  {
   "cell_type": "code",
   "execution_count": 12,
   "metadata": {},
   "outputs": [],
   "source": [
    "distances, neighbors = classifier.kneighbors(test_features) \n"
   ]
  },
  {
   "cell_type": "code",
   "execution_count": 13,
   "metadata": {},
   "outputs": [
    {
     "name": "stdout",
     "output_type": "stream",
     "text": [
      "Neigbours to image 0: [[ 4.    11.662]\n",
      " [ 4.    16.941]\n",
      " [ 4.    18.166]\n",
      " [ 4.    19.313]\n",
      " [ 4.    20.199]]\n",
      "Predicted:  4\n",
      "Neigbours to image 1: [[ 0.    21.095]\n",
      " [ 0.    21.471]\n",
      " [ 0.    21.61 ]\n",
      " [ 0.    21.749]\n",
      " [ 0.    21.817]]\n",
      "Predicted:  0\n",
      "Neigbours to image 2: [[ 5.    18.028]\n",
      " [ 5.    18.193]\n",
      " [ 5.    19.621]\n",
      " [ 5.    21.166]\n",
      " [ 5.    21.932]]\n",
      "Predicted:  5\n",
      "Neigbours to image 3: [[ 3.    10.954]\n",
      " [ 3.    17.607]\n",
      " [ 3.    19.748]\n",
      " [ 3.    22.583]\n",
      " [ 3.    23.13 ]]\n",
      "Predicted:  3\n",
      "Neigbours to image 4: [[ 6.    12.961]\n",
      " [ 6.    13.416]\n",
      " [ 6.    14.799]\n",
      " [ 6.    15.33 ]\n",
      " [ 6.    16.401]]\n",
      "Predicted:  6\n",
      "Neigbours to image 5: [[ 9.    19.261]\n",
      " [ 9.    22.825]\n",
      " [ 9.    23.409]\n",
      " [ 9.    23.643]\n",
      " [ 9.    23.664]]\n",
      "Predicted:  9\n",
      "Neigbours to image 6: [[ 6.    14.832]\n",
      " [ 6.    15.033]\n",
      " [ 6.    15.78 ]\n",
      " [ 6.    16.733]\n",
      " [ 6.    17.176]]\n",
      "Predicted:  6\n",
      "Neigbours to image 7: [[ 1.    25.1  ]\n",
      " [ 1.    29.086]\n",
      " [ 8.    33.03 ]\n",
      " [ 1.    34.029]\n",
      " [ 1.    34.641]]\n",
      "Predicted:  1\n",
      "Neigbours to image 8: [[ 7.    16.703]\n",
      " [ 7.    18.628]\n",
      " [ 7.    18.947]\n",
      " [ 7.    21.284]\n",
      " [ 7.    23.087]]\n",
      "Predicted:  7\n",
      "Neigbours to image 9: [[ 5.    10.863]\n",
      " [ 5.    14.967]\n",
      " [ 5.    20.224]\n",
      " [ 5.    20.372]\n",
      " [ 5.    20.396]]\n",
      "Predicted:  5\n"
     ]
    },
    {
     "data": {
      "image/png": "[encoded data removed]",
      "text/plain": [
       "<Figure size 432x288 with 10 Axes>"
      ]
     },
     "metadata": {
      "needs_background": "light"
     },
     "output_type": "display_data"
    }
   ],
   "source": [
    "distances.shape  # Visaulize neighbors\n",
    "\n",
    "test_features.shape\n",
    "#for i in neighbors:\n",
    "#    for n in neighbors[1]:\n",
    "\n",
    "      \n",
    "for index, image in enumerate(test_features[:10]):\n",
    "    P = plt.subplot(2, 5, index + 1)\n",
    "    # How to add xlabels to subplot??\n",
    "    labels = train_labels[neighbors[index][:]]\n",
    "    label_and_dist = list(zip(labels, distances[index]))\n",
    "    print(\"{}{}{}{}\".format(\"Neigbours to image \", index, \": \", np.around(label_and_dist,3)))\n",
    "    print(\"Predicted: \", predicted_labels[index])\n",
    "    plt.imshow(image.reshape(8,8), cmap=plt.cm.gray_r, interpolation='nearest')\n",
    "    plt.axis('off')\n",
    "    "
   ]
  },
  {
   "cell_type": "code",
   "execution_count": 14,
   "metadata": {},
   "outputs": [
    {
     "data": {
      "image/png": "[encoded data removed]",
      "text/plain": [
       "<Figure size 432x288 with 1 Axes>"
      ]
     },
     "metadata": {
      "needs_background": "light"
     },
     "output_type": "display_data"
    },
    {
     "data": {
      "image/png": "[encoded data removed]",
      "text/plain": [
       "<Figure size 432x288 with 5 Axes>"
      ]
     },
     "metadata": {
      "needs_background": "light"
     },
     "output_type": "display_data"
    }
   ],
   "source": [
    "plt.figure(1)\n",
    "plt.imshow(test_features[0].reshape(8,8), cmap=plt.cm.gray_r, interpolation='nearest')\n",
    "plt.figure(2)\n",
    "for index, nb in enumerate(neighbors[0]):\n",
    "    plt.subplot(1,5,index+1)\n",
    "    plt.imshow(train_features[nb].reshape(8,8), cmap=plt.cm.gray_r, interpolation='nearest')\n",
    "\n",
    "    "
   ]
  },
  {
   "cell_type": "markdown",
   "metadata": {},
   "source": [
    "# Print classification report and confusion matrix"
   ]
  },
  {
   "cell_type": "code",
   "execution_count": 15,
   "metadata": {},
   "outputs": [
    {
     "name": "stdout",
     "output_type": "stream",
     "text": [
      "              precision    recall  f1-score   support\n",
      "\n",
      "           0       0.98      0.98      0.98        53\n",
      "           1       0.95      0.98      0.96        53\n",
      "           2       0.98      0.96      0.97        53\n",
      "           3       0.96      0.92      0.94        53\n",
      "           4       0.98      0.96      0.97        57\n",
      "           5       0.95      0.98      0.96        56\n",
      "           6       0.98      1.00      0.99        54\n",
      "           7       0.95      1.00      0.97        54\n",
      "           8       0.96      0.90      0.93        52\n",
      "           9       0.96      0.95      0.95        55\n",
      "\n",
      "    accuracy                           0.96       540\n",
      "   macro avg       0.96      0.96      0.96       540\n",
      "weighted avg       0.97      0.96      0.96       540\n",
      "\n"
     ]
    }
   ],
   "source": [
    "print(metrics.classification_report(test_labels, predicted_labels))"
   ]
  },
  {
   "cell_type": "markdown",
   "metadata": {},
   "source": [
    "Precision: TP / (TP + FP). \"How many samples classified as X were correct?\"  \n",
    "Recall: TP / (TP + FN). \"How many of samples that should have been classifed as X were found as X?\"  \n",
    "F1-score: 2*precision+recall/(precision+recall). \"Weighed avarage between precision and recall\"  \n",
    "Support: Nbr of occurances in each class.   \n",
    "Accuracy = (TP + TN)/(TP+TN+FP+FN) \"How many samples were classified correctly as “X” or “not X” "
   ]
  },
  {
   "cell_type": "code",
   "execution_count": 16,
   "metadata": {},
   "outputs": [
    {
     "name": "stdout",
     "output_type": "stream",
     "text": [
      "[[52  0  0  0  1  0  0  0  0  0]\n",
      " [ 0 52  0  0  0  0  0  0  0  1]\n",
      " [ 1  0 51  1  0  0  0  0  0  0]\n",
      " [ 0  0  1 49  0  1  0  1  1  0]\n",
      " [ 0  0  0  0 55  0  0  1  1  0]\n",
      " [ 0  0  0  0  0 55  1  0  0  0]\n",
      " [ 0  0  0  0  0  0 54  0  0  0]\n",
      " [ 0  0  0  0  0  0  0 54  0  0]\n",
      " [ 0  3  0  0  0  0  0  1 47  1]\n",
      " [ 0  0  0  1  0  2  0  0  0 52]]\n"
     ]
    }
   ],
   "source": [
    "print(metrics.confusion_matrix(test_labels, predicted_labels))"
   ]
  },
  {
   "cell_type": "markdown",
   "metadata": {},
   "source": [
    "Here we had for example 1 false positive for number 0 (first row) as 4"
   ]
  },
  {
   "cell_type": "markdown",
   "metadata": {},
   "source": [
    "# K-Means, cluster into k-clusters"
   ]
  },
  {
   "cell_type": "code",
   "execution_count": 17,
   "metadata": {},
   "outputs": [
    {
     "name": "stdout",
     "output_type": "stream",
     "text": [
      "[[ 0.  0.  5. 13.  9.  1.  0.  0.  0.  0. 13. 15. 10. 15.  5.  0.  0.  3.\n",
      "  15.  2.  0. 11.  8.  0.  0.  4. 12.  0.  0.  8.  8.  0.  0.  5.  8.  0.\n",
      "   0.  9.  8.  0.  0.  4. 11.  0.  1. 12.  7.  0.  0.  2. 14.  5. 10. 12.\n",
      "   0.  0.  0.  0.  6. 13. 10.  0.  0.  0.]\n",
      " [ 0.  0.  0. 12. 13.  5.  0.  0.  0.  0.  0. 11. 16.  9.  0.  0.  0.  0.\n",
      "   3. 15. 16.  6.  0.  0.  0.  7. 15. 16. 16.  2.  0.  0.  0.  0.  1. 16.\n",
      "  16.  3.  0.  0.  0.  0.  1. 16. 16.  6.  0.  0.  0.  0.  1. 16. 16.  6.\n",
      "   0.  0.  0.  0.  0. 11. 16. 10.  0.  0.]\n",
      " [ 0.  0.  0.  4. 15. 12.  0.  0.  0.  0.  3. 16. 15. 14.  0.  0.  0.  0.\n",
      "   8. 13.  8. 16.  0.  0.  0.  0.  1.  6. 15. 11.  0.  0.  0.  1.  8. 13.\n",
      "  15.  1.  0.  0.  0.  9. 16. 16.  5.  0.  0.  0.  0.  3. 13. 16. 16. 11.\n",
      "   5.  0.  0.  0.  0.  3. 11. 16.  9.  0.]\n",
      " [ 0.  0.  7. 15. 13.  1.  0.  0.  0.  8. 13.  6. 15.  4.  0.  0.  0.  2.\n",
      "   1. 13. 13.  0.  0.  0.  0.  0.  2. 15. 11.  1.  0.  0.  0.  0.  0.  1.\n",
      "  12. 12.  1.  0.  0.  0.  0.  0.  1. 10.  8.  0.  0.  0.  8.  4.  5. 14.\n",
      "   9.  0.  0.  0.  7. 13. 13.  9.  0.  0.]\n",
      " [ 0.  0.  0.  1. 11.  0.  0.  0.  0.  0.  0.  7.  8.  0.  0.  0.  0.  0.\n",
      "   1. 13.  6.  2.  2.  0.  0.  0.  7. 15.  0.  9.  8.  0.  0.  5. 16. 10.\n",
      "   0. 16.  6.  0.  0.  4. 15. 16. 13. 16.  1.  0.  0.  0.  0.  3. 15. 10.\n",
      "   0.  0.  0.  0.  0.  2. 16.  4.  0.  0.]\n",
      " [ 0.  0. 12. 10.  0.  0.  0.  0.  0.  0. 14. 16. 16. 14.  0.  0.  0.  0.\n",
      "  13. 16. 15. 10.  1.  0.  0.  0. 11. 16. 16.  7.  0.  0.  0.  0.  0.  4.\n",
      "   7. 16.  7.  0.  0.  0.  0.  0.  4. 16.  9.  0.  0.  0.  5.  4. 12. 16.\n",
      "   4.  0.  0.  0.  9. 16. 16. 10.  0.  0.]\n",
      " [ 0.  0.  0. 12. 13.  0.  0.  0.  0.  0.  5. 16.  8.  0.  0.  0.  0.  0.\n",
      "  13. 16.  3.  0.  0.  0.  0.  0. 14. 13.  0.  0.  0.  0.  0.  0. 15. 12.\n",
      "   7.  2.  0.  0.  0.  0. 13. 16. 13. 16.  3.  0.  0.  0.  7. 16. 11. 15.\n",
      "   8.  0.  0.  0.  1.  9. 15. 11.  3.  0.]\n",
      " [ 0.  0.  7.  8. 13. 16. 15.  1.  0.  0.  7.  7.  4. 11. 12.  0.  0.  0.\n",
      "   0.  0.  8. 13.  1.  0.  0.  4.  8.  8. 15. 15.  6.  0.  0.  2. 11. 15.\n",
      "  15.  4.  0.  0.  0.  0.  0. 16.  5.  0.  0.  0.  0.  0.  9. 15.  1.  0.\n",
      "   0.  0.  0.  0. 13.  5.  0.  0.  0.  0.]\n",
      " [ 0.  0.  9. 14.  8.  1.  0.  0.  0.  0. 12. 14. 14. 12.  0.  0.  0.  0.\n",
      "   9. 10.  0. 15.  4.  0.  0.  0.  3. 16. 12. 14.  2.  0.  0.  0.  4. 16.\n",
      "  16.  2.  0.  0.  0.  3. 16.  8. 10. 13.  2.  0.  0.  1. 15.  1.  3. 16.\n",
      "   8.  0.  0.  0. 11. 16. 15. 11.  1.  0.]\n",
      " [ 0.  0. 11. 12.  0.  0.  0.  0.  0.  2. 16. 16. 16. 13.  0.  0.  0.  3.\n",
      "  16. 12. 10. 14.  0.  0.  0.  1. 16.  1. 12. 15.  0.  0.  0.  0. 13. 16.\n",
      "   9. 15.  2.  0.  0.  0.  0.  3.  0.  9. 11.  0.  0.  0.  0.  0.  9. 15.\n",
      "   4.  0.  0.  0.  9. 12. 13.  3.  0.  0.]]\n"
     ]
    }
   ],
   "source": [
    "print(np.array(train_features[:10]))"
   ]
  },
  {
   "cell_type": "code",
   "execution_count": 18,
   "metadata": {},
   "outputs": [],
   "source": [
    "clustering = cluster.KMeans(n_clusters=10, init = np.array(train_features[10:20]), n_init = 1)  # We can try other numbers when visualizing cluster centers"
   ]
  },
  {
   "cell_type": "code",
   "execution_count": 19,
   "metadata": {},
   "outputs": [],
   "source": [
    "clusters = clustering.fit(train_features)\n"
   ]
  },
  {
   "cell_type": "code",
   "execution_count": 20,
   "metadata": {},
   "outputs": [
    {
     "name": "stdout",
     "output_type": "stream",
     "text": [
      "(10, 64)\n"
     ]
    },
    {
     "data": {
      "image/png": "[encoded data removed]",
      "text/plain": [
       "<Figure size 432x288 with 10 Axes>"
      ]
     },
     "metadata": {
      "needs_background": "light"
     },
     "output_type": "display_data"
    }
   ],
   "source": [
    "print(clusters.cluster_centers_.shape)\n",
    "for index, center_image in enumerate(clusters.cluster_centers_[:]):\n",
    "    P = plt.subplot(2, 5, index + 1);\n",
    "    plt.imshow(center_image.reshape(8,8), cmap=plt.cm.gray_r, interpolation='nearest')\n"
   ]
  },
  {
   "cell_type": "markdown",
   "metadata": {},
   "source": [
    "Can we visualize clusters better? PCA to lower the dimensional space?"
   ]
  },
  {
   "cell_type": "code",
   "execution_count": 21,
   "metadata": {},
   "outputs": [
    {
     "name": "stdout",
     "output_type": "stream",
     "text": [
      "Test labels: \n",
      " [4 0 5 3 6 9 6 1 7 5 4 4 7 2 8 2 2 5 7 9 5 4 8 8 4 9 0 8 9 8 0 1 2 3 4 5 6\n",
      " 7 8 9 0 1 2 3 4 5 6 7 8 9 0 1 2 3 4 5 6 7 8 9 0 9 5 5 6 5 0 9 8 9 8 4 1 7\n",
      " 7 3 5 1 0 0 2 2 7 8 2 0 1 2 6 3 3 7 3 3 4 6 6 6 4 9 1 5 0 9 5 2 8 2 0 0 1\n",
      " 7 6 3 2 1 7 4 6 3 1 3 9 1 7 6 8 4 3 1 4 0 5 3 6 9 6 1 7 5 4 4 7 2 8 2 2 5\n",
      " 7 9 5 4 8 8 4 9 0 8 0 1 2 3 4 5 6 7 8 9 0 1 2 3 4 5 6 7 8 9 0 1 2 3 4 5 6\n",
      " 7 8 9 0 9 5 5 6 5 0 9 8 9 8 4 1 7 7 3 5 1 0 0 2 2 7 8 2 0 1 2 6 3 3 7 3 3\n",
      " 4 6 6 6 4 9 1 5 0 9 5 2 8 2 0 0 1 7 6 3 2 1 7 4 6 3 1 3 9 1 7 6 8 4 3 1 4\n",
      " 0 5 3 6 9 6 1 7 5 4 4 7 2 8 2 2 5 7 9 5 4 8 8 4 9 0 8 9 8 0 1 2 3 4 5 6 7\n",
      " 8 9 0 1 2 3 4 5 6 9 0 1 2 3 4 5 6 7 8 9 0 9 5 5 6 5 0 9 8 9 8 4 1 7 7 3 5\n",
      " 1 0 0 2 2 7 8 2 0 1 2 6 3 3 7 3 3 4 6 6 6 4 9 1 5 0 9 5 2 8 0 1 7 6 3 2 1\n",
      " 7 4 6 3 1 3 9 1 7 6 8 4 3 1 4 0 5 3 6 9 6 1 7 5 4 4 7 2 2 5 7 9 5 4 4 9 0\n",
      " 8 9 8 0 1 2 3 4 5 6 7 8 9 0 1 2 3 4 5 6 7 8 9 0 1 2 3 4 5 6 7 8 9 0 9 5 5\n",
      " 6 5 0 9 8 9 8 4 1 7 7 3 5 1 0 0 2 2 7 8 2 0 1 2 6 3 3 7 3 3 4 6 6 6 4 9 1\n",
      " 5 0 9 5 2 8 2 0 0 1 7 6 3 2 1 7 4 6 3 1 3 9 1 7 6 8 4 3 1 4 0 5 3 6 9 6 1\n",
      " 7 5 4 4 7 2 8 2 2 5 7 9 5 4 8 8 4 9 0 8 9 8]\n",
      "Predicted labels: \n",
      " [4 0 5 3 6 9 6 5 7 5 4 4 7 2 2 2 2 5 7 9 5 4 8 8 4 9 0 8 9 8 0 1 2 3 4 9 6\n",
      " 7 8 9 0 8 2 3 0 5 6 7 8 9 0 1 2 3 4 5 6 7 8 9 0 9 5 5 6 5 0 9 8 9 8 4 8 7\n",
      " 7 3 5 8 0 0 3 3 7 8 3 0 1 9 6 3 3 7 3 3 4 6 6 6 4 9 8 9 0 9 6 2 8 3 0 0 1\n",
      " 7 6 3 2 8 7 4 6 3 8 3 9 8 7 6 8 4 3 8 4 0 5 3 6 9 6 8 7 5 4 4 7 9 8 2 2 9\n",
      " 7 9 5 4 8 8 4 9 0 8 0 1 2 3 4 5 6 7 9 9 0 1 2 3 4 9 6 7 9 9 0 1 2 3 4 9 6\n",
      " 7 9 9 0 9 9 9 6 9 0 9 9 9 9 4 1 7 7 3 9 1 0 0 2 2 7 1 2 0 1 2 6 3 3 7 3 3\n",
      " 4 6 6 6 4 9 1 9 0 9 5 2 9 2 0 0 1 7 6 3 2 1 7 4 6 3 1 3 9 1 7 6 9 4 3 1 4\n",
      " 0 9 3 6 9 6 1 7 9 4 4 7 2 9 2 2 5 7 9 5 4 9 7 4 3 0 7 9 9 0 8 2 3 4 5 1 8\n",
      " 8 1 0 8 9 3 4 5 6 1 0 8 2 3 4 5 8 7 5 1 4 1 5 5 6 5 0 5 8 5 8 4 8 7 7 3 5\n",
      " 8 0 0 0 2 8 8 3 0 8 2 6 8 7 7 7 8 4 6 6 6 7 1 8 5 0 9 5 3 8 0 8 7 6 3 2 8\n",
      " 7 7 6 3 8 3 7 8 7 6 8 4 3 8 4 0 5 3 6 3 6 8 7 5 4 4 7 2 3 5 7 3 5 7 4 5 0\n",
      " 8 5 7 0 8 2 3 1 5 6 7 3 9 0 8 2 8 4 5 6 7 8 9 0 8 2 5 4 4 6 7 8 9 0 9 5 5\n",
      " 6 5 0 9 9 9 8 4 8 7 7 7 5 8 0 0 2 2 7 8 2 0 8 2 6 8 8 7 9 8 4 6 6 6 4 9 8\n",
      " 5 0 9 9 2 8 2 0 0 8 7 6 3 2 8 7 4 6 3 8 3 9 8 7 6 8 4 5 8 4 0 9 3 6 9 6 8\n",
      " 7 5 4 4 7 2 8 2 2 9 7 9 9 4 8 8 4 9 0 8 9 9]\n",
      "              precision    recall  f1-score   support\n",
      "\n",
      "           0       0.96      0.98      0.97        53\n",
      "           1       0.68      0.32      0.44        53\n",
      "           2       0.98      0.79      0.88        53\n",
      "           3       0.79      0.77      0.78        53\n",
      "           4       0.96      0.91      0.94        57\n",
      "           5       0.83      0.68      0.75        56\n",
      "           6       0.98      0.96      0.97        54\n",
      "           7       0.84      0.96      0.90        54\n",
      "           8       0.43      0.63      0.51        52\n",
      "           9       0.57      0.76      0.65        55\n",
      "\n",
      "    accuracy                           0.78       540\n",
      "   macro avg       0.80      0.78      0.78       540\n",
      "weighted avg       0.80      0.78      0.78       540\n",
      "\n"
     ]
    }
   ],
   "source": [
    "predicted_labels = clustering.predict(test_features)\n",
    "print(\"Test labels: \\n\", test_labels)\n",
    "print(\"Predicted labels: \\n\", predicted_labels)\n",
    "print(metrics.classification_report(test_labels, predicted_labels))"
   ]
  },
  {
   "cell_type": "code",
   "execution_count": 22,
   "metadata": {},
   "outputs": [
    {
     "name": "stdout",
     "output_type": "stream",
     "text": [
      "[[52  0  0  0  1  0  0  0  0  0]\n",
      " [ 0 17  0  0  0  1  0  0 35  0]\n",
      " [ 1  0 42  7  0  0  0  0  0  3]\n",
      " [ 0  0  0 41  0  2  0  3  6  1]\n",
      " [ 1  1  0  0 52  0  0  3  0  0]\n",
      " [ 0  0  0  0  1 38  1  0  0 16]\n",
      " [ 0  1  0  0  0  0 52  0  1  0]\n",
      " [ 0  0  0  0  0  0  0 52  2  0]\n",
      " [ 0  1  1  1  0  1  0  3 33 12]\n",
      " [ 0  5  0  3  0  4  0  1  0 42]]\n"
     ]
    }
   ],
   "source": [
    "print(metrics.confusion_matrix(test_labels, predicted_labels))"
   ]
  },
  {
   "cell_type": "code",
   "execution_count": 23,
   "metadata": {},
   "outputs": [
    {
     "name": "stdout",
     "output_type": "stream",
     "text": [
      "Completeness score:  0.7478172502225956 - A clustering result satisfies completeness if all the data points that are members of a given class are elements of the same cluster.\n",
      "Homogeneity score:  0.7360129522825359 - A clustering result satisfies homogeneity if all of its clusters contain only data points which are members of a single class.\n",
      "Adjusted mutual info:  0.7325974722699254 Adjusted Mutual Information (AMI) is an adjustment of the Mutual Information (MI) score to account for chance\n"
     ]
    }
   ],
   "source": [
    "print(\"Completeness score: \", metrics.completeness_score(test_labels, predicted_labels), \"- A clustering result satisfies completeness if all the data points that are members of a given class are elements of the same cluster.\")\n",
    "print(\"Homogeneity score: \", metrics.homogeneity_score(test_labels, predicted_labels), \"- A clustering result satisfies homogeneity if all of its clusters contain only data points which are members of a single class.\")\n",
    "print(\"Adjusted mutual info: \", metrics.adjusted_mutual_info_score(test_labels, predicted_labels), \"Adjusted Mutual Information (AMI) is an adjustment of the Mutual Information (MI) score to account for chance\")"
   ]
  },
  {
   "cell_type": "code",
   "execution_count": null,
   "metadata": {},
   "outputs": [],
   "source": []
  },
  {
   "cell_type": "code",
   "execution_count": null,
   "metadata": {},
   "outputs": [],
   "source": []
  },
  {
   "cell_type": "code",
   "execution_count": null,
   "metadata": {},
   "outputs": [],
   "source": []
  },
  {
   "cell_type": "code",
   "execution_count": null,
   "metadata": {},
   "outputs": [],
   "source": []
  }
 ],
 "metadata": {
  "kernelspec": {
   "display_name": "Python 3",
   "language": "python",
   "name": "python3"
  },
  "language_info": {
   "codemirror_mode": {
    "name": "ipython",
    "version": 3
   },
   "file_extension": ".py",
   "mimetype": "text/x-python",
   "name": "python",
   "nbconvert_exporter": "python",
   "pygments_lexer": "ipython3",
   "version": "3.7.6"
  }
 },
 "nbformat": 4,
 "nbformat_minor": 4
}
