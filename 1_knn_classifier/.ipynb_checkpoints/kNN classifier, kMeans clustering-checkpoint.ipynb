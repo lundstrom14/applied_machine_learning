{
 "cells": [
  {
   "cell_type": "markdown",
   "metadata": {},
   "source": [
    "## Imports"
   ]
  },
  {
   "cell_type": "code",
   "execution_count": 1,
   "metadata": {},
   "outputs": [],
   "source": [
    "from sklearn import datasets, svm, metrics, neighbors, cluster\n",
    "import matplotlib.pyplot as plt\n",
    "import numpy as np"
   ]
  },
  {
   "cell_type": "markdown",
   "metadata": {},
   "source": [
    "## Load digits"
   ]
  },
  {
   "cell_type": "code",
   "execution_count": 2,
   "metadata": {},
   "outputs": [
    {
     "data": {
      "text/plain": [
       "array([[ 0.,  0.,  5., ...,  0.,  0.,  0.],\n",
       "       [ 0.,  0.,  0., ..., 10.,  0.,  0.],\n",
       "       [ 0.,  0.,  0., ..., 16.,  9.,  0.],\n",
       "       ...,\n",
       "       [ 0.,  0.,  1., ...,  6.,  0.,  0.],\n",
       "       [ 0.,  0.,  2., ..., 12.,  0.,  0.],\n",
       "       [ 0.,  0., 10., ..., 12.,  1.,  0.]])"
      ]
     },
     "execution_count": 2,
     "metadata": {},
     "output_type": "execute_result"
    }
   ],
   "source": [
    "digits = datasets.load_digits()\n",
    "\n",
    "digits.data\n"
   ]
  },
  {
   "cell_type": "code",
   "execution_count": 3,
   "metadata": {},
   "outputs": [
    {
     "data": {
      "text/plain": [
       "(1797, 64)"
      ]
     },
     "execution_count": 3,
     "metadata": {},
     "output_type": "execute_result"
    }
   ],
   "source": [
    "digits.data.shape"
   ]
  },
  {
   "cell_type": "markdown",
   "metadata": {},
   "source": [
    "## Plot digits"
   ]
  },
  {
   "cell_type": "code",
   "execution_count": 4,
   "metadata": {},
   "outputs": [
    {
     "data": {
      "text/plain": [
       "array([[ 0.,  0.,  5., ...,  0.,  0.,  0.],\n",
       "       [ 0.,  0.,  0., ..., 10.,  0.,  0.],\n",
       "       [ 0.,  0.,  0., ..., 16.,  9.,  0.],\n",
       "       ...,\n",
       "       [ 0.,  0.,  1., ...,  6.,  0.,  0.],\n",
       "       [ 0.,  0.,  2., ..., 12.,  0.,  0.],\n",
       "       [ 0.,  0., 10., ..., 12.,  1.,  0.]])"
      ]
     },
     "execution_count": 4,
     "metadata": {},
     "output_type": "execute_result"
    }
   ],
   "source": [
    "digits.data"
   ]
  },
  {
   "cell_type": "code",
   "execution_count": 5,
   "metadata": {},
   "outputs": [],
   "source": [
    "zipped = zip(digits.images, digits.target) # returns iteratable items as tuples\n",
    "images_and_labels = list(zipped) # create a list from our touples to iterate over"
   ]
  },
  {
   "cell_type": "code",
   "execution_count": 6,
   "metadata": {},
   "outputs": [
    {
     "data": {
      "image/png": "[encoded data removed]",
      "text/plain": [
       "<Figure size 432x288 with 10 Axes>"
      ]
     },
     "metadata": {
      "needs_background": "light"
     },
     "output_type": "display_data"
    }
   ],
   "source": [
    "for index, (image, label) in enumerate(images_and_labels[:10]):\n",
    "    plt.subplot(2, 5, index + 1)\n",
    "    plt.axis('off')\n",
    "    plt.imshow(image, cmap=plt.cm.gray_r, interpolation='nearest')\n",
    "    plt.title('Training: %i' % label)"
   ]
  },
  {
   "cell_type": "markdown",
   "metadata": {},
   "source": [
    "## Split sets into 70% training and 30% test"
   ]
  },
  {
   "cell_type": "code",
   "execution_count": 7,
   "metadata": {},
   "outputs": [
    {
     "name": "stdout",
     "output_type": "stream",
     "text": [
      "Number of training examples:  1257\n",
      "Number of test examples:  540\n",
      "Number of total examples: 1797\n"
     ]
    }
   ],
   "source": [
    "num_split = int(0.7*len(digits.data))\n",
    "train_features = digits.data[:num_split]\n",
    "train_labels =  digits.target[:num_split]\n",
    "test_features = digits.data[num_split:]\n",
    "test_labels = digits.target[num_split:]\n",
    "\n",
    "print(\"Number of training examples: \",len(train_features))\n",
    "print(\"Number of test examples: \",len(test_features))\n",
    "print(\"Number of total examples:\", len(train_features)+len(test_features))"
   ]
  },
  {
   "cell_type": "markdown",
   "metadata": {},
   "source": [
    "# Set up classifier"
   ]
  },
  {
   "cell_type": "code",
   "execution_count": 8,
   "metadata": {},
   "outputs": [],
   "source": [
    "classifier = neighbors.KNeighborsClassifier(n_neighbors=5, algorithm = 'brute') # Set up classifer"
   ]
  },
  {
   "cell_type": "code",
   "execution_count": 9,
   "metadata": {},
   "outputs": [
    {
     "data": {
      "text/plain": [
       "KNeighborsClassifier(algorithm='brute', leaf_size=30, metric='minkowski',\n",
       "                     metric_params=None, n_jobs=None, n_neighbors=5, p=2,\n",
       "                     weights='uniform')"
      ]
     },
     "execution_count": 9,
     "metadata": {},
     "output_type": "execute_result"
    }
   ],
   "source": [
    "classifier.fit(train_features,train_labels)   # Fit to training data"
   ]
  },
  {
   "cell_type": "markdown",
   "metadata": {},
   "source": [
    "# Predict test features"
   ]
  },
  {
   "cell_type": "code",
   "execution_count": 10,
   "metadata": {},
   "outputs": [],
   "source": [
    "predicted_labels = classifier.predict(test_features)"
   ]
  },
  {
   "cell_type": "markdown",
   "metadata": {},
   "source": [
    "# Visaulize 5-nearest neighbors"
   ]
  },
  {
   "cell_type": "code",
   "execution_count": 11,
   "metadata": {},
   "outputs": [],
   "source": [
    "distances, neighbors = classifier.kneighbors(test_features) \n"
   ]
  },
  {
   "cell_type": "code",
   "execution_count": 12,
   "metadata": {},
   "outputs": [
    {
     "name": "stdout",
     "output_type": "stream",
     "text": [
      "Neigbours to image 0: [(4, 11.661903789690601), (4, 16.941074346097416), (4, 18.16590212458495), (4, 19.313207915827967), (4, 20.199009876724155)]\n",
      "Neigbours to image 1: [(0, 21.095023109728988), (0, 21.470910553583888), (0, 21.61018278497431), (0, 21.748563170931547), (0, 21.817424229271428)]\n",
      "Neigbours to image 2: [(5, 18.027756377319946), (5, 18.193405398660254), (5, 19.621416870348583), (5, 21.166010488516726), (5, 21.93171219946131)]\n",
      "Neigbours to image 3: [(3, 10.954451150103322), (3, 17.60681686165901), (3, 19.748417658131498), (3, 22.58317958127243), (3, 23.130067012440755)]\n",
      "Neigbours to image 4: [(6, 12.96148139681572), (6, 13.416407864998739), (6, 14.798648586948742), (6, 15.329709716755891), (6, 16.401219466856727)]\n",
      "Neigbours to image 5: [(9, 19.261360284258224), (9, 22.825424421026653), (9, 23.40939982143925), (9, 23.643180835073778), (9, 23.664319132398465)]\n",
      "Neigbours to image 6: [(6, 14.832396974191326), (6, 15.033296378372908), (6, 15.7797338380595), (6, 16.73320053068151), (6, 17.175564037317667)]\n",
      "Neigbours to image 7: [(1, 25.099800796022265), (1, 29.086079144497972), (8, 33.03028912982749), (1, 34.02939905434711), (1, 34.64101615137755)]\n",
      "Neigbours to image 8: [(7, 16.703293088490067), (7, 18.627936010197157), (7, 18.947295321496416), (7, 21.283796653792763), (7, 23.08679276123039)]\n",
      "Neigbours to image 9: [(5, 10.862780491200215), (5, 14.966629547095765), (5, 20.223748416156685), (5, 20.37154878746336), (5, 20.396078054371138)]\n"
     ]
    },
    {
     "data": {
      "image/png": "[encoded data removed]",
      "text/plain": [
       "<Figure size 432x288 with 10 Axes>"
      ]
     },
     "metadata": {
      "needs_background": "light"
     },
     "output_type": "display_data"
    }
   ],
   "source": [
    "distances.shape  # Visaulize neighbors\n",
    "\n",
    "test_features.shape\n",
    "#for i in neighbors:\n",
    "#    for n in neighbors[1]:\n",
    "\n",
    "      \n",
    "for index, image in enumerate(test_features[:10]):\n",
    "    P = plt.subplot(2, 5, index + 1)\n",
    "    # How to add xlabels to subplot??\n",
    "    labels = train_labels[neighbors[index][:]]\n",
    "    label_and_dist = list(zip(labels, distances[index]))\n",
    "    print(\"{}{}{}{}\".format(\"Neigbours to image \", index, \": \", label_and_dist))\n",
    "    plt.imshow(image.reshape(8,8), cmap=plt.cm.gray_r, interpolation='nearest')\n",
    "    plt.axis('off')\n"
   ]
  },
  {
   "cell_type": "markdown",
   "metadata": {},
   "source": [
    "# Print classification report and confusion matrix"
   ]
  },
  {
   "cell_type": "code",
   "execution_count": 13,
   "metadata": {},
   "outputs": [
    {
     "name": "stdout",
     "output_type": "stream",
     "text": [
      "              precision    recall  f1-score   support\n",
      "\n",
      "           0       0.98      0.98      0.98        53\n",
      "           1       0.95      0.98      0.96        53\n",
      "           2       0.98      0.96      0.97        53\n",
      "           3       0.96      0.92      0.94        53\n",
      "           4       0.98      0.96      0.97        57\n",
      "           5       0.95      0.98      0.96        56\n",
      "           6       0.98      1.00      0.99        54\n",
      "           7       0.95      1.00      0.97        54\n",
      "           8       0.96      0.90      0.93        52\n",
      "           9       0.96      0.95      0.95        55\n",
      "\n",
      "    accuracy                           0.96       540\n",
      "   macro avg       0.96      0.96      0.96       540\n",
      "weighted avg       0.97      0.96      0.96       540\n",
      "\n"
     ]
    }
   ],
   "source": [
    "print(metrics.classification_report(test_labels, predicted_labels))\n",
    "\n"
   ]
  },
  {
   "cell_type": "code",
   "execution_count": 14,
   "metadata": {},
   "outputs": [
    {
     "name": "stdout",
     "output_type": "stream",
     "text": [
      "[[52  0  0  0  1  0  0  0  0  0]\n",
      " [ 0 52  0  0  0  0  0  0  0  1]\n",
      " [ 1  0 51  1  0  0  0  0  0  0]\n",
      " [ 0  0  1 49  0  1  0  1  1  0]\n",
      " [ 0  0  0  0 55  0  0  1  1  0]\n",
      " [ 0  0  0  0  0 55  1  0  0  0]\n",
      " [ 0  0  0  0  0  0 54  0  0  0]\n",
      " [ 0  0  0  0  0  0  0 54  0  0]\n",
      " [ 0  3  0  0  0  0  0  1 47  1]\n",
      " [ 0  0  0  1  0  2  0  0  0 52]]\n"
     ]
    }
   ],
   "source": [
    "print(metrics.confusion_matrix(test_labels, predicted_labels))"
   ]
  },
  {
   "cell_type": "markdown",
   "metadata": {},
   "source": [
    "Here we had for example 1 false positive for number 0 (first row) as 4"
   ]
  },
  {
   "cell_type": "markdown",
   "metadata": {},
   "source": [
    "# K-Means"
   ]
  },
  {
   "cell_type": "code",
   "execution_count": 15,
   "metadata": {},
   "outputs": [],
   "source": [
    "clustering = cluster.KMeans(n_clusters=10)"
   ]
  },
  {
   "cell_type": "code",
   "execution_count": 18,
   "metadata": {},
   "outputs": [
    {
     "name": "stdout",
     "output_type": "stream",
     "text": [
      "KMeans(algorithm='auto', copy_x=True, init='k-means++', max_iter=300,\n",
      "       n_clusters=10, n_init=10, n_jobs=None, precompute_distances='auto',\n",
      "       random_state=None, tol=0.0001, verbose=0)\n"
     ]
    }
   ],
   "source": [
    "clusters = clustering.fit(train_features)\n"
   ]
  },
  {
   "cell_type": "code",
   "execution_count": null,
   "metadata": {},
   "outputs": [],
   "source": []
  }
 ],
 "metadata": {
  "kernelspec": {
   "display_name": "Python 3",
   "language": "python",
   "name": "python3"
  },
  "language_info": {
   "codemirror_mode": {
    "name": "ipython",
    "version": 3
   },
   "file_extension": ".py",
   "mimetype": "text/x-python",
   "name": "python",
   "nbconvert_exporter": "python",
   "pygments_lexer": "ipython3",
   "version": "3.7.6"
  }
 },
 "nbformat": 4,
 "nbformat_minor": 4
}
