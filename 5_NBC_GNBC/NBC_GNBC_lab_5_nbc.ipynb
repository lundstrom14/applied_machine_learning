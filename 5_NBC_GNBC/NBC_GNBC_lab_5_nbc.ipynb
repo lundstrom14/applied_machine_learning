{
 "cells": [
  {
   "cell_type": "markdown",
   "metadata": {},
   "source": [
    "# NearestCentriodClassifier classifier, on all datasets"
   ]
  },
  {
   "cell_type": "markdown",
   "metadata": {},
   "source": [
    "#### Import statements"
   ]
  },
  {
   "cell_type": "code",
   "execution_count": 26,
   "metadata": {},
   "outputs": [],
   "source": [
    "from sklearn import metrics, datasets\n",
    "import numpy as np\n",
    "import MNIST\n",
    "from naiveBayesianClassifier import NaiveBayesianClassifier\n",
    "%config IPCompleter.greedy=True\n"
   ]
  },
  {
   "cell_type": "markdown",
   "metadata": {},
   "source": [
    "### 1. Digits dataset\n",
    "Load and split into 70% training and 30% test"
   ]
  },
  {
   "cell_type": "code",
   "execution_count": 36,
   "metadata": {},
   "outputs": [
    {
     "name": "stdout",
     "output_type": "stream",
     "text": [
      "Number of training examples:  1257\n",
      "Number of test examples:  540\n",
      "Number of total examples: 1797\n"
     ]
    }
   ],
   "source": [
    "digits = datasets.load_digits()\n",
    "\n",
    "digits.data\n",
    "digits.data.shape\n",
    "\n",
    "num_split = int(0.7*len(digits.data))\n",
    "train_features = digits.data[:num_split]\n",
    "train_labels =  digits.target[:num_split]\n",
    "test_features = digits.data[num_split:]\n",
    "test_labels = digits.target[num_split:]\n",
    "\n",
    "print(\"Number of training examples: \",len(train_features))\n",
    "print(\"Number of test examples: \",len(test_features))\n",
    "print(\"Number of total examples:\", len(train_features)+len(test_features))"
   ]
  },
  {
   "cell_type": "code",
   "execution_count": 37,
   "metadata": {},
   "outputs": [
    {
     "name": "stdout",
     "output_type": "stream",
     "text": [
      "(1257, 64)\n",
      "[0 1 2 3 4 5 6 7 8 9 0 1 2 3 4 5 6 7 8 9 0 1 2 3 4 5 6 7 8 9]\n"
     ]
    }
   ],
   "source": [
    "print(train_features.shape)\n",
    "print(train_labels[:30])\n"
   ]
  },
  {
   "cell_type": "code",
   "execution_count": 38,
   "metadata": {},
   "outputs": [
    {
     "name": "stdout",
     "output_type": "stream",
     "text": [
      "[0.14285714 0.08730159 0.05555556 0.06349206 0.06349206 0.1031746\n",
      " 0.08730159 0.04761905 0.07142857 0.05555556 0.04761905 0.03968254\n",
      " 0.03968254 0.         0.04761905 0.02380952 0.02380952]\n"
     ]
    }
   ],
   "source": [
    "nbc = NaiveBayesianClassifier()\n",
    "nbc.fit(train_features, train_labels, 10)\n",
    "y_pred = nbc.predict(test_features)"
   ]
  },
  {
   "cell_type": "code",
   "execution_count": 39,
   "metadata": {
    "scrolled": false
   },
   "outputs": [
    {
     "name": "stdout",
     "output_type": "stream",
     "text": [
      "Classification report SKLearn digits:\n",
      "              precision    recall  f1-score   support\n",
      "\n",
      "           0       0.24      1.00      0.39        53\n",
      "           1       0.84      0.51      0.64        53\n",
      "           2       1.00      0.36      0.53        53\n",
      "           3       1.00      0.58      0.74        53\n",
      "           4       0.95      0.65      0.77        57\n",
      "           5       0.88      0.52      0.65        56\n",
      "           6       1.00      0.65      0.79        54\n",
      "           7       0.86      0.59      0.70        54\n",
      "           8       0.72      0.65      0.69        52\n",
      "           9       0.75      0.65      0.70        55\n",
      "\n",
      "    accuracy                           0.62       540\n",
      "   macro avg       0.83      0.62      0.66       540\n",
      "weighted avg       0.83      0.62      0.66       540\n",
      "\n",
      "\n",
      "Confusion matrix SKLearn digits:\n",
      "[[53  0  0  0  0  0  0  0  0  0]\n",
      " [20 27  0  0  1  0  0  0  3  2]\n",
      " [28  0 19  0  0  0  0  0  5  1]\n",
      " [13  0  0 31  0  3  0  1  3  2]\n",
      " [20  0  0  0 37  0  0  0  0  0]\n",
      " [19  2  0  0  0 29  0  1  1  4]\n",
      " [18  0  0  0  0  0 35  0  1  0]\n",
      " [21  0  0  0  0  0  0 32  0  1]\n",
      " [13  2  0  0  1  0  0  0 34  2]\n",
      " [14  1  0  0  0  1  0  3  0 36]]\n"
     ]
    }
   ],
   "source": [
    "print(\"Classification report SKLearn digits:\\n%s\\n\"\n",
    "% (metrics.classification_report(test_labels, y_pred)))\n",
    "print(\"Confusion matrix SKLearn digits:\\n%s\" % metrics.confusion_matrix(test_labels, y_pred))"
   ]
  },
  {
   "cell_type": "markdown",
   "metadata": {},
   "source": [
    "### 2. Digits summarised dataset"
   ]
  },
  {
   "cell_type": "markdown",
   "metadata": {},
   "source": [
    "Load data and minify the data to dark, gray and light values"
   ]
  },
  {
   "cell_type": "code",
   "execution_count": 31,
   "metadata": {},
   "outputs": [
    {
     "name": "stdout",
     "output_type": "stream",
     "text": [
      "(1797, 64)\n",
      "(1797, 64)\n"
     ]
    }
   ],
   "source": [
    "flat_digits_data = digits.data.flatten()\n",
    "\n",
    "digits_data_summarised = np.zeros(len(flat_digits_data))\n",
    "for i,x in enumerate(flat_digits_data):\n",
    "    if x < 5:\n",
    "        digits_data_summarised[i] = 0 #dark\n",
    "    elif x > 10:\n",
    "        digits_data_summarised[i] = 2 #light\n",
    "    else:\n",
    "        digits_data_summarised[i] = 1 #gray\n",
    "        \n",
    "digits_data_summarised = digits_data_summarised.reshape(digits.data.shape)\n",
    "\n",
    "print(digits.data.shape)\n",
    "print(digits_data_summarised.shape)"
   ]
  },
  {
   "cell_type": "markdown",
   "metadata": {},
   "source": [
    "Split into training and test set. 70/30"
   ]
  },
  {
   "cell_type": "code",
   "execution_count": 32,
   "metadata": {},
   "outputs": [
    {
     "name": "stdout",
     "output_type": "stream",
     "text": [
      "Number of training examples:  1257\n",
      "Number of test examples:  540\n",
      "Number of total examples: 1797\n"
     ]
    }
   ],
   "source": [
    "num_split = int(0.7*len(digits.data))\n",
    "train_features = digits_data_summarised[:num_split]\n",
    "train_labels =  digits.target[:num_split]\n",
    "test_features = digits_data_summarised[num_split:]\n",
    "test_labels = digits.target[num_split:]\n",
    "\n",
    "print(\"Number of training examples: \",len(train_features))\n",
    "print(\"Number of test examples: \",len(test_features))\n",
    "print(\"Number of total examples:\", len(train_features)+len(test_features))"
   ]
  },
  {
   "cell_type": "code",
   "execution_count": 34,
   "metadata": {},
   "outputs": [
    {
     "name": "stdout",
     "output_type": "stream",
     "text": [
      "(1257, 64)\n",
      "(1257,)\n"
     ]
    }
   ],
   "source": [
    "print(train_features.shape)\n",
    "print(train_labels.shape)"
   ]
  },
  {
   "cell_type": "code",
   "execution_count": 35,
   "metadata": {},
   "outputs": [
    {
     "name": "stdout",
     "output_type": "stream",
     "text": [
      "[0.41269841 0.41269841 0.17460317 0.         0.         0.\n",
      " 0.         0.         0.         0.         0.         0.\n",
      " 0.         0.         0.         0.         0.        ]\n"
     ]
    }
   ],
   "source": [
    "nbc.fit(train_features, train_labels, 10)\n",
    "y_pred = nbc.predict(test_features)"
   ]
  },
  {
   "cell_type": "code",
   "execution_count": 25,
   "metadata": {},
   "outputs": [
    {
     "name": "stdout",
     "output_type": "stream",
     "text": [
      "Classification report SKLearn digits_summarised:\n",
      "              precision    recall  f1-score   support\n",
      "\n",
      "           0       0.83      0.81      0.82        53\n",
      "           1       0.82      0.70      0.76        53\n",
      "           2       0.94      0.87      0.90        53\n",
      "           3       0.85      0.75      0.80        53\n",
      "           4       0.91      0.89      0.90        57\n",
      "           5       0.82      0.88      0.84        56\n",
      "           6       0.98      0.87      0.92        54\n",
      "           7       0.83      0.83      0.83        54\n",
      "           8       0.69      0.77      0.73        52\n",
      "           9       0.66      0.85      0.75        55\n",
      "\n",
      "    accuracy                           0.82       540\n",
      "   macro avg       0.83      0.82      0.83       540\n",
      "weighted avg       0.83      0.82      0.83       540\n",
      "\n",
      "\n",
      "Confusion matrix SKLearn digits_summarised:\n",
      "[[43  0  1  0  4  3  0  0  2  0]\n",
      " [ 0 37  0  0  0  1  0  0  2 13]\n",
      " [ 1  0 46  4  0  1  0  0  0  1]\n",
      " [ 0  3  1 40  0  1  0  3  4  1]\n",
      " [ 1  0  0  0 51  0  0  2  3  0]\n",
      " [ 1  1  0  0  1 49  1  0  1  2]\n",
      " [ 3  0  0  1  0  1 47  0  1  1]\n",
      " [ 3  0  0  0  0  1  0 45  5  0]\n",
      " [ 0  3  1  0  0  1  0  1 40  6]\n",
      " [ 0  1  0  2  0  2  0  3  0 47]]\n"
     ]
    }
   ],
   "source": [
    "print(\"Classification report SKLearn digits_summarised:\\n%s\\n\"\n",
    "% (metrics.classification_report(test_labels, y_pred)))\n",
    "print(\"Confusion matrix SKLearn digits_summarised:\\n%s\" % metrics.confusion_matrix(test_labels, y_pred))"
   ]
  },
  {
   "cell_type": "markdown",
   "metadata": {},
   "source": [
    "### 3. MNIST_light dataset"
   ]
  },
  {
   "cell_type": "markdown",
   "metadata": {},
   "source": [
    "Load dataset and split"
   ]
  },
  {
   "cell_type": "code",
   "execution_count": 11,
   "metadata": {},
   "outputs": [],
   "source": [
    "mnist = MNIST.MNISTData('MNIST_Light/*/*.png')\n",
    "\n",
    "\n",
    "train_features, test_features, train_labels, test_labels = mnist.get_data()  #70% train, 30% test\n",
    "\n",
    "#undo normalization\n",
    "train_features = train_features*255\n",
    "test_features = test_features*255"
   ]
  },
  {
   "cell_type": "code",
   "execution_count": 12,
   "metadata": {},
   "outputs": [
    {
     "name": "stdout",
     "output_type": "stream",
     "text": [
      "[0.86629526 0.00278552 0.         0.00835655 0.         0.00278552\n",
      " 0.00557103 0.00278552 0.00278552 0.         0.         0.00835655\n",
      " 0.00835655 0.00557103 0.00557103 0.00278552 0.00278552 0.00278552\n",
      " 0.         0.00278552 0.00557103 0.00278552 0.         0.\n",
      " 0.         0.         0.         0.00278552 0.00557103 0.\n",
      " 0.         0.         0.00278552 0.00278552 0.00557103 0.\n",
      " 0.00835655 0.00557103 0.         0.         0.         0.\n",
      " 0.         0.         0.         0.         0.         0.\n",
      " 0.         0.00278552 0.         0.         0.         0.\n",
      " 0.         0.         0.00278552 0.         0.         0.\n",
      " 0.         0.         0.         0.         0.         0.\n",
      " 0.         0.         0.         0.         0.         0.\n",
      " 0.         0.         0.         0.         0.         0.\n",
      " 0.         0.         0.         0.         0.         0.\n",
      " 0.         0.         0.         0.         0.         0.\n",
      " 0.         0.         0.00278552 0.         0.         0.\n",
      " 0.         0.00278552 0.         0.         0.         0.\n",
      " 0.         0.         0.         0.         0.         0.\n",
      " 0.         0.         0.         0.         0.         0.\n",
      " 0.         0.         0.         0.         0.         0.\n",
      " 0.00278552 0.         0.         0.         0.         0.\n",
      " 0.         0.         0.         0.         0.         0.\n",
      " 0.         0.00278552 0.         0.         0.         0.\n",
      " 0.         0.         0.         0.         0.         0.\n",
      " 0.         0.         0.         0.         0.         0.00278552\n",
      " 0.00278552 0.         0.         0.         0.         0.\n",
      " 0.         0.         0.         0.         0.         0.\n",
      " 0.         0.         0.00278552 0.         0.         0.\n",
      " 0.         0.         0.         0.         0.         0.\n",
      " 0.         0.         0.         0.         0.         0.00278552\n",
      " 0.         0.         0.         0.         0.         0.\n",
      " 0.         0.         0.         0.         0.         0.\n",
      " 0.         0.         0.         0.         0.         0.\n",
      " 0.         0.         0.         0.         0.         0.\n",
      " 0.         0.         0.         0.         0.         0.\n",
      " 0.         0.         0.         0.         0.         0.\n",
      " 0.         0.         0.         0.         0.         0.\n",
      " 0.         0.         0.         0.         0.         0.\n",
      " 0.         0.         0.         0.         0.         0.\n",
      " 0.         0.         0.         0.         0.         0.\n",
      " 0.         0.         0.         0.         0.         0.\n",
      " 0.         0.         0.         0.         0.         0.\n",
      " 0.         0.         0.         0.        ]\n"
     ]
    }
   ],
   "source": [
    "nbc.fit(train_features, train_labels, 10, 255)\n",
    "y_pred = nbc.predict(test_features)"
   ]
  },
  {
   "cell_type": "code",
   "execution_count": 13,
   "metadata": {},
   "outputs": [
    {
     "name": "stdout",
     "output_type": "stream",
     "text": [
      "Classification report SKLearn:\n",
      "              precision    recall  f1-score   support\n",
      "\n",
      "           0       0.11      1.00      0.20       164\n",
      "           1       0.00      0.00      0.00       152\n",
      "           2       0.00      0.00      0.00       155\n",
      "           3       0.00      0.00      0.00       154\n",
      "           4       0.00      0.00      0.00       143\n",
      "           5       0.00      0.00      0.00       141\n",
      "           6       0.00      0.00      0.00       143\n",
      "           7       0.00      0.00      0.00       158\n",
      "           8       0.00      0.00      0.00       132\n",
      "           9       0.00      0.00      0.00       158\n",
      "\n",
      "    accuracy                           0.11      1500\n",
      "   macro avg       0.01      0.10      0.02      1500\n",
      "weighted avg       0.01      0.11      0.02      1500\n",
      "\n",
      "\n",
      "Confusion matrix SKLearn:\n",
      "[[164   0   0   0   0   0   0   0   0   0]\n",
      " [152   0   0   0   0   0   0   0   0   0]\n",
      " [155   0   0   0   0   0   0   0   0   0]\n",
      " [154   0   0   0   0   0   0   0   0   0]\n",
      " [143   0   0   0   0   0   0   0   0   0]\n",
      " [141   0   0   0   0   0   0   0   0   0]\n",
      " [143   0   0   0   0   0   0   0   0   0]\n",
      " [158   0   0   0   0   0   0   0   0   0]\n",
      " [132   0   0   0   0   0   0   0   0   0]\n",
      " [158   0   0   0   0   0   0   0   0   0]]\n"
     ]
    },
    {
     "name": "stderr",
     "output_type": "stream",
     "text": [
      "C:\\ProgramData\\Anaconda3\\lib\\site-packages\\sklearn\\metrics\\_classification.py:1272: UndefinedMetricWarning: Precision and F-score are ill-defined and being set to 0.0 in labels with no predicted samples. Use `zero_division` parameter to control this behavior.\n",
      "  _warn_prf(average, modifier, msg_start, len(result))\n"
     ]
    }
   ],
   "source": [
    "print(\"Classification report SKLearn:\\n%s\\n\"\n",
    "% (metrics.classification_report(test_labels, y_pred)))\n",
    "print(\"Confusion matrix SKLearn:\\n%s\" % metrics.confusion_matrix(test_labels, y_pred))"
   ]
  },
  {
   "cell_type": "code",
   "execution_count": null,
   "metadata": {},
   "outputs": [],
   "source": []
  },
  {
   "cell_type": "code",
   "execution_count": null,
   "metadata": {},
   "outputs": [],
   "source": []
  },
  {
   "cell_type": "code",
   "execution_count": null,
   "metadata": {},
   "outputs": [],
   "source": []
  },
  {
   "cell_type": "code",
   "execution_count": null,
   "metadata": {},
   "outputs": [],
   "source": []
  }
 ],
 "metadata": {
  "kernelspec": {
   "display_name": "Python 3",
   "language": "python",
   "name": "python3"
  },
  "language_info": {
   "codemirror_mode": {
    "name": "ipython",
    "version": 3
   },
   "file_extension": ".py",
   "mimetype": "text/x-python",
   "name": "python",
   "nbconvert_exporter": "python",
   "pygments_lexer": "ipython3",
   "version": "3.7.6"
  }
 },
 "nbformat": 4,
 "nbformat_minor": 4
}
